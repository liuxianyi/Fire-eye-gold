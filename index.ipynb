{
 "cells": [
  {
   "cell_type": "code",
   "execution_count": 1,
   "metadata": {
    "collapsed": true
   },
   "outputs": [],
   "source": [
    "import paddlehub, paddle\n",
    "import paddle.fluid as fluid\n",
    "import cv2\n",
    "import numpy as np\n",
    "import os\n",
    "import time\n",
    "from matplotlib import pyplot as plt\n",
    "%matplotlib inline"
   ]
  },
  {
   "cell_type": "code",
   "execution_count": 2,
   "metadata": {},
   "outputs": [
    {
     "name": "stderr",
     "output_type": "stream",
     "text": [
      "[2020-04-22 09:32:48,851] [    INFO] - Installing face_landmark_localization module"
     ]
    },
    {
     "name": "stderr",
     "output_type": "stream",
     "text": [
      "\n"
     ]
    },
    {
     "name": "stderr",
     "output_type": "stream",
     "text": [
      "[2020-04-22 09:32:49,605] [    INFO] - Module face_landmark_localization already installed in C:\\Users\\goog\\.paddlehub\\modules\\face_landmark_localization"
     ]
    },
    {
     "name": "stderr",
     "output_type": "stream",
     "text": [
      "\n"
     ]
    },
    {
     "name": "stderr",
     "output_type": "stream",
     "text": [
      "[2020-04-22 09:32:49,622] [    INFO] - Installing ultra_light_fast_generic_face_detector_1mb_640 module"
     ]
    },
    {
     "name": "stderr",
     "output_type": "stream",
     "text": [
      "\n"
     ]
    },
    {
     "name": "stderr",
     "output_type": "stream",
     "text": [
      "[2020-04-22 09:32:49,629] [    INFO] - Module ultra_light_fast_generic_face_detector_1mb_640 already installed in C:\\Users\\goog\\.paddlehub\\modules\\ultra_light_fast_generic_face_detector_1mb_640"
     ]
    },
    {
     "name": "stderr",
     "output_type": "stream",
     "text": [
      "\n"
     ]
    }
   ],
   "source": [
    "net = paddlehub.Module(name='face_landmark_localization')\n"
   ]
  },
  {
   "cell_type": "code",
   "execution_count": 3,
   "metadata": {},
   "outputs": [],
   "source": [
    "def getEAR(data):\n",
    "    dLeft = data[0]\n",
    "    dRight = data[3]\n",
    "    dTopLeft = data[1]\n",
    "    dTopRight = data[2]\n",
    "    dBottomLeft = data[5]\n",
    "    dBottomRight = data[4]\n",
    "\n",
    "\n",
    "    s1 = ((dTopLeft[0]-dBottomLeft[0])**2+(dTopLeft[1]-dBottomLeft[1])**2)**0.5\n",
    "    s2 = ((dTopRight[0]-dBottomRight[0])**2+(dTopRight[1]\n",
    "                                             -dBottomRight[1])**2)**0.5\n",
    "    s3 = ((dLeft[0]-dRight[0])**2+(dLeft[1]\n",
    "                                             -dRight[1])**2)**0.5\n",
    "    return (s1+s2)/(2*s3)\n"
   ]
  },
  {
   "cell_type": "code",
   "execution_count": 4,
   "metadata": {},
   "outputs": [],
   "source": [
    "def drawEye(leftE, rightE, img):\n",
    "    # 眼睛加色\n",
    "    mask = np.ones(img.shape, dtype=np.uint8)\n",
    "    \n",
    "    ellipsisL = cv2.fitEllipseDirect(leftE)\n",
    "    ellipsisR = cv2.fitEllipseDirect(rightE)\n",
    "    valL = ((ellipsisL[0][0]+3, ellipsisL[0][1]),\n",
    "           (ellipsisL[1][0]+8, ellipsisL[1][1]+12),\n",
    "            ellipsisL[2]+3)\n",
    "    valR = ((ellipsisR[0][0]+8, ellipsisR[0][1]),\n",
    "           (ellipsisR[1][0]+8, ellipsisR[1][1]+10),\n",
    "            ellipsisR[2]+3)\n",
    "    cv2.ellipse(mask, valL, (0, 255, 255), -1, \n",
    "                lineType=cv2.LINE_8)\n",
    "    cv2.ellipse(mask, valR, (0, 255, 255), -1, \n",
    "                lineType=cv2.LINE_8)\n",
    "    cv2.addWeighted(img, 0.9, mask, 0.8, 0, img)\n",
    "    return img"
   ]
  },
  {
   "cell_type": "code",
   "execution_count": 15,
   "metadata": {
    "collapsed": true
   },
   "outputs": [],
   "source": [
    "cap = cv2.VideoCapture(0)\n",
    "next_frame = 0\n",
    "L_EARLess0_3Count = 0\n",
    "blinkCount = 0\n",
    "R_EARLess0_3Count = 0\n",
    "always_eye = 0\n",
    "while True:\n",
    "    ret, frame = cap.read()\n",
    "    frame = cv2.flip(frame, 1)\n",
    "    # 图片转换\n",
    "    # cv2.imshow(\"goog\", frame)\n",
    "    re = net.keypoint_detection(images=[frame], use_gpu=False)\n",
    "    detect_frame = frame.copy()\n",
    "    try:\n",
    "        # print(re)\n",
    "        for face in re[0]['data']:  # 脸\n",
    "        # print(result)\n",
    "        #     for data in face[36:48]:  # 脸数据 / 眼睛数据\n",
    "                # cv2.circle(detect_frame, (int(data[0]), int(data[1])), radius=2, \n",
    "                #            thickness=2, color=(255, 0, 255))\n",
    "                # 描绘轮廓\n",
    "                leftEye = np.asarray([[int(i[0]), int(i[1])] \n",
    "                                      for i in face[36:42]])\n",
    "                rightEye = np.asarray([[int(i[0]), int(i[1])] \n",
    "                                      for i in face[42:48]])\n",
    "                # leftEyeHull = cv2.convexHull(leftEye)\n",
    "                # rightEyeHull = cv2.convexHull(leftEye)\n",
    "                \n",
    "                # cv2.drawContours(detect_frame, [leftEye],\n",
    "                #                  -1, (0, 255, 255), 1)  # 左眼轮廓\n",
    "                # cv2.drawContours(detect_frame, [rightEye],\n",
    "                #                      -1, (0, 255, 255), 1)  # 右眼轮廓\n",
    "                \n",
    "                \n",
    "                # 计算 EAR值 \n",
    "                #  左眼EAR\n",
    "                \n",
    "                # if next_frame % 3 == 0:\n",
    "                #     next_frame=0\n",
    "                leftEAR = getEAR(face[36:42])\n",
    "                rightEAR = getEAR(face[42:48])\n",
    "                if leftEAR<0.3:\n",
    "                    L_EARLess0_3Count+=1\n",
    "                else:\n",
    "                    if L_EARLess0_3Count > 7:\n",
    "                            always_eye = 1\n",
    "                    if L_EARLess0_3Count>=3:\n",
    "                        L_EARLess0_3Count=0\n",
    "                        detect_frame = drawEye(leftEye, rightEye, \n",
    "                                               detect_frame)\n",
    "                        blinkCount+=1\n",
    "                    \n",
    "                cv2.putText(detect_frame, \"L-Blink:\"+str(blinkCount), (10, 100), \n",
    "                                cv2.FONT_HERSHEY_SCRIPT_SIMPLEX, 0.6, \n",
    "                                (0, 255, 255), 1)\n",
    "                # next_frame+=1\n",
    "                cv2.putText(detect_frame, \"L-EAR:\"+str(leftEAR), (10, 40), \n",
    "                                cv2.FONT_HERSHEY_SCRIPT_SIMPLEX, 0.6, \n",
    "                                (255, 255, 255), 1)\n",
    "                cv2.putText(detect_frame, \"R-EAR:\"+str(leftEAR), (10, 80), \n",
    "                            cv2.FONT_HERSHEY_SCRIPT_SIMPLEX, 0.6, \n",
    "                            (255, 255, 255), 1)\n",
    "    except Exception as e:\n",
    "        print(\"no detect\")\n",
    "    \n",
    "    # 持续放大招\n",
    "    if always_eye == 1:\n",
    "        detect_frame = drawEye(leftEye, rightEye, \n",
    "                                               detect_frame)\n",
    "    cv2.imshow('goog_detect', detect_frame)\n",
    "        \n",
    "    if cv2.waitKey(1) & 0xff == ord('q'):\n",
    "        break\n",
    "# cv2.imwrite(\"goog.jpg\", frame)\n",
    "cap.release()\n",
    "cv2.destroyAllWindows()\n"
   ]
  },
  {
   "cell_type": "code",
   "execution_count": 10,
   "metadata": {},
   "outputs": [
    {
     "name": "stdout",
     "output_type": "stream",
     "text": [
      "uint8"
     ]
    },
    {
     "name": "stdout",
     "output_type": "stream",
     "text": [
      "\n"
     ]
    },
    {
     "name": "stdout",
     "output_type": "stream",
     "text": [
      "time:0.1297"
     ]
    },
    {
     "name": "stdout",
     "output_type": "stream",
     "text": [
      "\n"
     ]
    },
    {
     "data": {
      "text/plain": [
       "-1"
      ]
     },
     "execution_count": 10,
     "metadata": {},
     "output_type": "execute_result"
    }
   ],
   "source": [
    "import os\n",
    "import time\n",
    "import numpy as np\n",
    "img = cv2.imread(\"goog.jpg\")\n",
    "start = time.time()\n",
    "re = net.keypoint_detection(images=[img], use_gpu=False,\n",
    "                   visualization=False)\n",
    "result = re[0]['data'][0]\n",
    "leftEAR = getEAR(result[36:42])\n",
    "cv2.putText(img, \"R-EAR:\"+str(leftEAR), (10, 40), \n",
    "                                cv2.FONT_HERSHEY_SCRIPT_SIMPLEX, 0.5, \n",
    "                                (255, 255, 255), 1)\n",
    "cv2.putText(img, \"R-EAR:\"+str(leftEAR), (10, 80), \n",
    "                                cv2.FONT_HERSHEY_SCRIPT_SIMPLEX, 0.5, \n",
    "                                (255, 255, 255), 1)\n",
    "# print(result[36:42])\n",
    "a = np.asarray([[int(i[0]), int(i[1])] for i in result[36:42]])\n",
    "# a = a.reshape((-1,  1, 2))\n",
    "# print(a)\n",
    "# leftEyeHull = cv2.convexHull(points=a)\n",
    "# print(leftEyeHull)\n",
    "img1 = img.copy()\n",
    "mask = np.ones(img1.shape, dtype=np.uint8)\n",
    "\n",
    "ellipsis = cv2.fitEllipseDirect(a)\n",
    "val = ((ellipsis[0][0]-3, ellipsis[0][1]),\n",
    "       (ellipsis[1][0]+8, ellipsis[1][1]+8), ellipsis[2]+3)\n",
    "# print(val)\n",
    "cv2.ellipse(mask, val, (0, 255, 255), -1, lineType=cv2.LINE_8)\n",
    "# cv2.drawContours(img, [a], -1, (0, 0, 255), 3, \n",
    "#                  lineType=cv2.LINE_8,\n",
    "#                  offset=(0, 0))  # 左眼轮廓\n",
    "print(mask.dtype)\n",
    "cv2.addWeighted(img, 0.9, mask, 0.8, 0, mask)\n",
    "# cv2.rectangle(img, (int(result['left']), int(result['top'])),\n",
    "#                       (int(result['right']), int(result['bottom'])), (0, 0, 255), 2)\n",
    "end = time.time()\n",
    "cv2.imshow(\"goog\", mask)\n",
    "print(\"time:%.4f\" % (end-start))\n",
    "# print(re[0]['data'][0])\n",
    "cv2.waitKey(0)"
   ]
  },
  {
   "cell_type": "code",
   "execution_count": 64,
   "metadata": {},
   "outputs": [],
   "source": [
    "\n"
   ]
  },
  {
   "cell_type": "code",
   "execution_count": null,
   "metadata": {},
   "outputs": [],
   "source": []
  }
 ],
 "metadata": {
  "kernelspec": {
   "display_name": "Python 2",
   "language": "python",
   "name": "python2"
  },
  "language_info": {
   "codemirror_mode": {
    "name": "ipython",
    "version": 2
   },
   "file_extension": ".py",
   "mimetype": "text/x-python",
   "name": "python",
   "nbconvert_exporter": "python",
   "pygments_lexer": "ipython2",
   "version": "2.7.6"
  }
 },
 "nbformat": 4,
 "nbformat_minor": 0
}
